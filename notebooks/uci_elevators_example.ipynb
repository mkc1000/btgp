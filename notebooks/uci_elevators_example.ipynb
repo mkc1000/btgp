{
 "cells": [
  {
   "cell_type": "code",
   "execution_count": 1,
   "id": "a283c756",
   "metadata": {},
   "outputs": [],
   "source": [
    "from btgp.data_utils import load_dataset\n",
    "from btgp.gp import ONGP\n",
    "import torch\n",
    "device = torch.device(\"cuda:1\" if torch.cuda.is_available() else \"cpu\")\n",
    "\n",
    "import time"
   ]
  },
  {
   "cell_type": "code",
   "execution_count": 5,
   "id": "986dd7c3",
   "metadata": {},
   "outputs": [
    {
     "name": "stdout",
     "output_type": "stream",
     "text": [
      "dataset_path: ../data/uci/elevators/elevators.mat\n",
      "data.shape: torch.Size([16599, 19])\n",
      "train_x.shape: torch.Size([10623, 18])\n",
      "full kernel size: 0.4 GB\n",
      "train_x: min 0.000, max 1.000, mean 0.536, std 0.252\n",
      "val_x: min -0.077, max 1.029, mean 0.536, std 0.253\n",
      "test_x: min -0.053, max 1.087, mean 0.534, std 0.252\n",
      "train_y: min -2.193, max 5.220, mean 0.000, std 1.000\n",
      "val_y: min -2.193, max 5.012, mean -0.043, std 1.003\n",
      "test_y: min -2.193, max 4.559, mean 0.015, std 0.999\n",
      "\n",
      "Train nll: tensor(1.2630, device='cuda:1', dtype=torch.float64)\n",
      "Test nll: tensor(1.2122, device='cuda:1', dtype=torch.float64)\n",
      "Test rmse: tensor(0.7872, device='cuda:1', dtype=torch.float64)\n",
      "\n",
      "Training the weight vector and the bit order:\n",
      "Test nll: tensor(0.9272, device='cuda:1', dtype=torch.float64)\n",
      "Test rmse: tensor(0.6235, device='cuda:1', dtype=torch.float64)\n",
      "dataset_path: ../data/uci/elevators/elevators.mat\n",
      "data.shape: torch.Size([16599, 19])\n",
      "train_x.shape: torch.Size([10623, 18])\n",
      "full kernel size: 0.4 GB\n",
      "train_x: min 0.000, max 1.000, mean 0.537, std 0.253\n",
      "val_x: min -0.077, max 1.054, mean 0.538, std 0.253\n",
      "test_x: min -0.009, max 1.086, mean 0.538, std 0.254\n",
      "train_y: min -2.182, max 5.181, mean 0.000, std 1.000\n",
      "val_y: min -2.182, max 4.403, mean -0.037, std 0.984\n",
      "test_y: min -2.182, max 4.974, mean -0.008, std 0.980\n",
      "\n",
      "Train nll: tensor(1.2604, device='cuda:1', dtype=torch.float64)\n",
      "Test nll: tensor(1.2086, device='cuda:1', dtype=torch.float64)\n",
      "Test rmse: tensor(0.7823, device='cuda:1', dtype=torch.float64)\n",
      "\n",
      "Training the weight vector and the bit order:\n",
      "Test nll: tensor(1.0056, device='cuda:1', dtype=torch.float64)\n",
      "Test rmse: tensor(0.6423, device='cuda:1', dtype=torch.float64)\n",
      "dataset_path: ../data/uci/elevators/elevators.mat\n",
      "data.shape: torch.Size([16599, 19])\n",
      "train_x.shape: torch.Size([10623, 18])\n",
      "full kernel size: 0.4 GB\n",
      "train_x: min 0.000, max 1.000, mean 0.538, std 0.259\n",
      "val_x: min -0.083, max 200.000, mean 0.541, std 0.948\n",
      "test_x: min -0.148, max 100.000, mean 0.541, std 0.482\n",
      "train_y: min -2.202, max 5.252, mean -0.000, std 1.000\n",
      "val_y: min -2.202, max 4.705, mean 0.010, std 1.025\n",
      "test_y: min -2.202, max 5.042, mean -0.012, std 1.009\n",
      "\n",
      "Train nll: tensor(1.2433, device='cuda:1', dtype=torch.float64)\n",
      "Test nll: tensor(1.2201, device='cuda:1', dtype=torch.float64)\n",
      "Test rmse: tensor(0.7952, device='cuda:1', dtype=torch.float64)\n",
      "\n",
      "Training the weight vector and the bit order:\n",
      "Test nll: tensor(0.8316, device='cuda:1', dtype=torch.float64)\n",
      "Test rmse: tensor(0.5310, device='cuda:1', dtype=torch.float64)\n"
     ]
    }
   ],
   "source": [
    "path_start = \"../data/uci/\"\n",
    "test_rmses = []\n",
    "test_nlls = []\n",
    "train_times = []\n",
    "predict_times = []\n",
    "SEEDS = [0,1,2]\n",
    "torch.manual_seed(0)\n",
    "for seed in SEEDS:\n",
    "    train_x, train_y, val_x, val_y, test_x, test_y = load_dataset(\n",
    "        path_start + \"elevators/elevators.mat\",\n",
    "        random_split=seed,\n",
    "    )\n",
    "    \n",
    "    test_y = test_y.to(device=device)\n",
    "    gp = ONGP(train_x.to(dtype=torch.float64, device=device),\n",
    "              train_y.to(dtype=torch.float64, device=device),\n",
    "              test_x.to(dtype=torch.float64, device=device), lambd=1e-4, precision=16)\n",
    "    gp.random_bit_order()\n",
    "    gp.process()\n",
    "    print(\"Train nll:\", gp.nll)\n",
    "    print(\"Test nll:\", gp.calculate_test_nll(test_y.view(-1,1)))\n",
    "    print(\"Test rmse:\", gp.rmse(test_y.view(-1,1)))\n",
    "    print()\n",
    "    print(\"Training the weight vector and the bit order:\")\n",
    "    train_time = time.time()\n",
    "    gp.update_weights_slsqp(update_order=True, verbose=False)\n",
    "    train_times.append(time.time() - train_time)\n",
    "    gp.save(path=\"\")\n",
    "    predict_time = time.time()\n",
    "    test_nll = gp.calculate_test_nll(test_y.view(-1,1))\n",
    "    predict_times.append(time.time() - predict_time)\n",
    "    test_nlls.append(test_nll)\n",
    "    test_rmse = gp.rmse(test_y.view(-1,1))\n",
    "    test_rmses.append(test_rmse)\n",
    "    print(\"Test nll:\", test_nll)\n",
    "    print(\"Test rmse:\", test_rmse)"
   ]
  },
  {
   "cell_type": "markdown",
   "id": "7d05f11d",
   "metadata": {},
   "source": [
    "## test SLSQP"
   ]
  },
  {
   "cell_type": "code",
   "execution_count": 8,
   "id": "e038e097",
   "metadata": {},
   "outputs": [
    {
     "data": {
      "text/plain": [
       "[tensor(0.9272, device='cuda:1', dtype=torch.float64),\n",
       " tensor(1.0056, device='cuda:1', dtype=torch.float64),\n",
       " tensor(0.8316, device='cuda:1', dtype=torch.float64)]"
      ]
     },
     "execution_count": 8,
     "metadata": {},
     "output_type": "execute_result"
    }
   ],
   "source": [
    "test_nlls"
   ]
  },
  {
   "cell_type": "code",
   "execution_count": 9,
   "id": "217fc662",
   "metadata": {},
   "outputs": [
    {
     "data": {
      "text/plain": [
       "[tensor(0.6235, device='cuda:1', dtype=torch.float64),\n",
       " tensor(0.6423, device='cuda:1', dtype=torch.float64),\n",
       " tensor(0.5310, device='cuda:1', dtype=torch.float64)]"
      ]
     },
     "execution_count": 9,
     "metadata": {},
     "output_type": "execute_result"
    }
   ],
   "source": [
    "test_rmses"
   ]
  },
  {
   "cell_type": "code",
   "execution_count": null,
   "id": "0d193ab9",
   "metadata": {},
   "outputs": [],
   "source": []
  }
 ],
 "metadata": {
  "kernelspec": {
   "display_name": "Python 3 (ipykernel)",
   "language": "python",
   "name": "python3"
  },
  "language_info": {
   "codemirror_mode": {
    "name": "ipython",
    "version": 3
   },
   "file_extension": ".py",
   "mimetype": "text/x-python",
   "name": "python",
   "nbconvert_exporter": "python",
   "pygments_lexer": "ipython3",
   "version": "3.9.7"
  }
 },
 "nbformat": 4,
 "nbformat_minor": 5
}
