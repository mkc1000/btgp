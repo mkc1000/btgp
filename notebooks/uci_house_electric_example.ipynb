{
 "cells": [
  {
   "cell_type": "code",
   "execution_count": 1,
   "id": "a283c756",
   "metadata": {},
   "outputs": [],
   "source": [
    "from btgp.data_utils import load_dataset\n",
    "from btgp.gp import ONGP\n",
    "import torch\n",
    "device = torch.device(\"cuda:4\" if torch.cuda.is_available() else \"cpu\")\n"
   ]
  },
  {
   "cell_type": "code",
   "execution_count": 2,
   "id": "986dd7c3",
   "metadata": {},
   "outputs": [
    {
     "name": "stdout",
     "output_type": "stream",
     "text": [
      "dataset_path: ../data/uci/houseelectric/houseelectric.mat\n",
      "data.shape: torch.Size([2049280, 12])\n",
      "train_x.shape: torch.Size([1311539, 11])\n",
      "full kernel size: 6408.0 GB\n",
      "train_x: min 0.000, max 1.000, mean 0.325, std 0.319\n",
      "val_x: min 0.000, max 1.000, mean 0.325, std 0.319\n",
      "test_x: min -0.009, max 1.000, mean 0.325, std 0.319\n",
      "train_y: min -2.300, max 2.867, mean -0.000, std 1.000\n",
      "val_y: min -2.300, max 2.772, mean -0.000, std 0.999\n",
      "test_y: min -2.300, max 2.824, mean -0.001, std 0.999\n",
      "\n"
     ]
    }
   ],
   "source": [
    "path_start = \"../data/uci/\"\n",
    "\n",
    "train_x, train_y, val_x, val_y, test_x, test_y = load_dataset(path_start + \"houseelectric/houseelectric.mat\")"
   ]
  },
  {
   "cell_type": "code",
   "execution_count": null,
   "id": "4f28717b",
   "metadata": {},
   "outputs": [],
   "source": []
  },
  {
   "cell_type": "code",
   "execution_count": 3,
   "id": "a7c960e9",
   "metadata": {},
   "outputs": [
    {
     "name": "stdout",
     "output_type": "stream",
     "text": [
      "A single GP, no weight optimization (uniform weights):\n"
     ]
    },
    {
     "name": "stderr",
     "output_type": "stream",
     "text": [
      "/home/sdaulton/anaconda3/envs/effgp/lib/python3.9/site-packages/torch/functional.py:445: UserWarning: torch.meshgrid: in an upcoming release, it will be required to pass the indexing argument. (Triggered internally at  ../aten/src/ATen/native/TensorShape.cpp:2157.)\n",
      "  return _VF.meshgrid(tensors, **kwargs)  # type: ignore[attr-defined]\n"
     ]
    },
    {
     "name": "stdout",
     "output_type": "stream",
     "text": [
      "Train nll: tensor(0.7376, device='cuda:4', dtype=torch.float64)\n",
      "Test nll: tensor(0.6646, device='cuda:4', dtype=torch.float64)\n",
      "Test rmse: tensor(0.2205, device='cuda:4', dtype=torch.float64)\n",
      "\n",
      "Training the weight vector and the bit order:\n",
      "train nll: tensor(0.4764, device='cuda:4', dtype=torch.float64)\n",
      "train nll: tensor(6.4472, device='cuda:4', dtype=torch.float64)\n",
      "nll increased; revert\n",
      "train nll: tensor(0.4764, device='cuda:4', dtype=torch.float64)\n",
      "bit order: tensor([ 7,  1, 10,  3,  7,  2,  2,  1,  8,  4,  9,  3, 10,  4,  0,  1,  9,  2,\n",
      "         5, 10,  6,  8,  4,  9, 10,  9,  9,  0,  5,  7, 10,  7,  7,  5,  6,  6,\n",
      "         0,  3,  1, 10,  3,  9,  6,  8,  4,  1,  7,  8,  3,  3,  6,  2,  0,  6,\n",
      "         5,  2,  8,  6,  9,  8,  2,  6,  0,  5,  4, 10,  1, 10,  9,  5,  4,  0,\n",
      "         1,  4,  3,  0,  2,  4,  7,  5,  8,  8,  0,  7,  5,  1,  3,  2],\n",
      "       device='cuda:4')\n",
      "Test nll: tensor(0.3577, device='cuda:4', dtype=torch.float64)\n",
      "Test rmse: tensor(0.1818, device='cuda:4', dtype=torch.float64)\n",
      "lr 0.005\n",
      "lr 0.0025\n",
      "train nll: tensor(0.1701, device='cuda:4', dtype=torch.float64)\n",
      "Test nll: tensor(-0.0386, device='cuda:4', dtype=torch.float64)\n",
      "Test rmse: tensor(0.1652, device='cuda:4', dtype=torch.float64)\n"
     ]
    }
   ],
   "source": [
    "torch.manual_seed(0)\n",
    "print(\"A single GP, no weight optimization (uniform weights):\")\n",
    "test_y = test_y.to(device=device)\n",
    "gp = ONGP(train_x.to(dtype=torch.float64, device=device),\n",
    "          train_y.to(dtype=torch.float64, device=device),\n",
    "          test_x.to(dtype=torch.float64, device=device), lambd=1e-4, precision=8)\n",
    "gp.random_bit_order()\n",
    "gp.process()\n",
    "print(\"Train nll:\", gp.nll)\n",
    "print(\"Test nll:\", gp.calculate_test_nll(test_y))\n",
    "print(\"Test rmse:\", gp.rmse(test_y))\n",
    "print()\n",
    "print(\"Training the weight vector and the bit order:\")\n",
    "for _ in range(2):\n",
    "    gp.update_weights(update_order=True, verbose=True)\n",
    "    gp.save()\n",
    "    print(\"Test nll:\", gp.calculate_test_nll(test_y))\n",
    "    print(\"Test rmse:\", gp.rmse(test_y))"
   ]
  },
  {
   "cell_type": "markdown",
   "id": "7d05f11d",
   "metadata": {},
   "source": [
    "## test SLSQP"
   ]
  },
  {
   "cell_type": "code",
   "execution_count": 4,
   "id": "b1f63088",
   "metadata": {},
   "outputs": [
    {
     "name": "stdout",
     "output_type": "stream",
     "text": [
      "A single GP, no weight optimization (uniform weights):\n",
      "Train nll: tensor(0.7376, device='cuda:4', dtype=torch.float64)\n",
      "Test nll: tensor(0.6646, device='cuda:4', dtype=torch.float64)\n",
      "Test rmse: tensor(0.2205, device='cuda:4', dtype=torch.float64)\n",
      "\n",
      "Training the weight vector and the bit order:\n",
      "Fitting failed with the optimizer reporting 'Iteration limit reached'\n",
      "bit order: tensor([ 7,  7,  1, 10,  3,  0,  2,  2,  1,  8,  4,  9,  3, 10,  4,  9,  1,  2,\n",
      "         8,  5, 10,  6,  7,  4,  9, 10,  9,  9,  0,  5,  7, 10,  7,  5,  1,  6,\n",
      "         6,  0,  3, 10,  3,  7,  9,  6,  8,  4,  1,  3,  8,  3,  5,  6,  2,  6,\n",
      "         2,  5,  8,  6,  9,  8,  2,  6,  0,  5,  4, 10,  1, 10,  9,  0,  4,  1,\n",
      "         4,  3,  0,  2,  4,  7,  5,  8,  8,  0,  7,  5,  1,  3,  2,  0],\n",
      "       device='cuda:4')\n",
      "Test nll: tensor(-0.5934, device='cuda:4', dtype=torch.float64)\n",
      "Test rmse: tensor(0.1519, device='cuda:4', dtype=torch.float64)\n",
      "bit order: tensor([ 7,  7,  1, 10,  3,  0,  1,  2,  2,  8,  3,  4,  9,  5, 10,  4,  9,  1,\n",
      "         2,  8,  7, 10,  6,  7,  4,  9, 10,  9,  9,  0,  5,  7, 10,  5,  1,  7,\n",
      "         6,  6,  0,  3, 10,  3,  6,  9,  5,  8,  4,  1,  3,  8,  3,  6,  2,  5,\n",
      "         6,  2,  5,  8,  6,  9,  8,  2,  6,  0,  0,  4, 10,  1, 10,  9,  4,  1,\n",
      "         4,  3,  0,  2,  4,  7,  5,  8,  8,  0,  7,  5,  1,  3,  2,  0],\n",
      "       device='cuda:4')\n",
      "Test nll: tensor(-0.8226, device='cuda:4', dtype=torch.float64)\n",
      "Test rmse: tensor(0.1206, device='cuda:4', dtype=torch.float64)\n"
     ]
    }
   ],
   "source": [
    "torch.manual_seed(0)\n",
    "print(\"A single GP, no weight optimization (uniform weights):\")\n",
    "test_y = test_y.to(device=device)\n",
    "gp = ONGP(train_x.to(dtype=torch.float64, device=device),\n",
    "          train_y.to(dtype=torch.float64, device=device),\n",
    "          test_x.to(dtype=torch.float64, device=device), lambd=1e-4, precision=8)\n",
    "gp.random_bit_order()\n",
    "gp.process()\n",
    "print(\"Train nll:\", gp.nll)\n",
    "print(\"Test nll:\", gp.calculate_test_nll(test_y))\n",
    "print(\"Test rmse:\", gp.rmse(test_y))\n",
    "print()\n",
    "print(\"Training the weight vector and the bit order:\")\n",
    "for _ in range(2):\n",
    "    gp.update_weights_slsqp(update_order=True, verbose=True)\n",
    "    gp.save()\n",
    "    print(\"Test nll:\", gp.calculate_test_nll(test_y))\n",
    "    print(\"Test rmse:\", gp.rmse(test_y))"
   ]
  },
  {
   "cell_type": "code",
   "execution_count": null,
   "id": "e038e097",
   "metadata": {},
   "outputs": [],
   "source": []
  }
 ],
 "metadata": {
  "kernelspec": {
   "display_name": "Python 3 (ipykernel)",
   "language": "python",
   "name": "python3"
  },
  "language_info": {
   "codemirror_mode": {
    "name": "ipython",
    "version": 3
   },
   "file_extension": ".py",
   "mimetype": "text/x-python",
   "name": "python",
   "nbconvert_exporter": "python",
   "pygments_lexer": "ipython3",
   "version": "3.9.7"
  }
 },
 "nbformat": 4,
 "nbformat_minor": 5
}
